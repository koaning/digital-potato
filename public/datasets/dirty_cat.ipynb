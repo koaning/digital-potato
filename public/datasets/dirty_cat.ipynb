{
 "cells": [
  {
   "cell_type": "code",
   "execution_count": 1,
   "metadata": {
    "colab": {
     "base_uri": "https://localhost:8080/"
    },
    "id": "o0NVqtos9_mt",
    "outputId": "ba1e597d-da64-43d0-d29f-09a793b12159"
   },
   "outputs": [],
   "source": [
    "import numpy as np\n",
    "import pandas as pd\n",
    "from dirty_cat import datasets\n",
    "\n",
    "employee_salaries = datasets.fetch_employee_salaries()"
   ]
  },
  {
   "cell_type": "markdown",
   "metadata": {},
   "source": [
    "Here is the full dataset."
   ]
  },
  {
   "cell_type": "code",
   "execution_count": 2,
   "metadata": {
    "colab": {
     "base_uri": "https://localhost:8080/",
     "height": 371
    },
    "id": "_qtZSpSSJ7HS",
    "outputId": "205b4aa5-13d4-45c3-8a45-533c2da7a2a1"
   },
   "outputs": [
    {
     "data": {
      "text/html": [
       "<div>\n",
       "<style scoped>\n",
       "    .dataframe tbody tr th:only-of-type {\n",
       "        vertical-align: middle;\n",
       "    }\n",
       "\n",
       "    .dataframe tbody tr th {\n",
       "        vertical-align: top;\n",
       "    }\n",
       "\n",
       "    .dataframe thead th {\n",
       "        text-align: right;\n",
       "    }\n",
       "</style>\n",
       "<table border=\"1\" class=\"dataframe\">\n",
       "  <thead>\n",
       "    <tr style=\"text-align: right;\">\n",
       "      <th></th>\n",
       "      <th>full_name</th>\n",
       "      <th>gender</th>\n",
       "      <th>2016_gross_pay_received</th>\n",
       "      <th>2016_overtime_pay</th>\n",
       "      <th>department</th>\n",
       "      <th>department_name</th>\n",
       "      <th>division</th>\n",
       "      <th>assignment_category</th>\n",
       "      <th>employee_position_title</th>\n",
       "      <th>underfilled_job_title</th>\n",
       "      <th>date_first_hired</th>\n",
       "      <th>year_first_hired</th>\n",
       "      <th>Current Annual Salary</th>\n",
       "    </tr>\n",
       "  </thead>\n",
       "  <tbody>\n",
       "    <tr>\n",
       "      <th>0</th>\n",
       "      <td>Aarhus, Pam J.</td>\n",
       "      <td>F</td>\n",
       "      <td>71225.98</td>\n",
       "      <td>416.10</td>\n",
       "      <td>POL</td>\n",
       "      <td>Department of Police</td>\n",
       "      <td>MSB Information Mgmt and Tech Division Records...</td>\n",
       "      <td>Fulltime-Regular</td>\n",
       "      <td>Office Services Coordinator</td>\n",
       "      <td>None</td>\n",
       "      <td>09/22/1986</td>\n",
       "      <td>1986.0</td>\n",
       "      <td>69222.18</td>\n",
       "    </tr>\n",
       "    <tr>\n",
       "      <th>1</th>\n",
       "      <td>Aaron, David J.</td>\n",
       "      <td>M</td>\n",
       "      <td>103088.48</td>\n",
       "      <td>3326.19</td>\n",
       "      <td>POL</td>\n",
       "      <td>Department of Police</td>\n",
       "      <td>ISB Major Crimes Division Fugitive Section</td>\n",
       "      <td>Fulltime-Regular</td>\n",
       "      <td>Master Police Officer</td>\n",
       "      <td>None</td>\n",
       "      <td>09/12/1988</td>\n",
       "      <td>1988.0</td>\n",
       "      <td>97392.47</td>\n",
       "    </tr>\n",
       "    <tr>\n",
       "      <th>2</th>\n",
       "      <td>Aaron, Marsha M.</td>\n",
       "      <td>F</td>\n",
       "      <td>107000.24</td>\n",
       "      <td>1353.32</td>\n",
       "      <td>HHS</td>\n",
       "      <td>Department of Health and Human Services</td>\n",
       "      <td>Adult Protective and Case Management Services</td>\n",
       "      <td>Fulltime-Regular</td>\n",
       "      <td>Social Worker IV</td>\n",
       "      <td>None</td>\n",
       "      <td>11/19/1989</td>\n",
       "      <td>1989.0</td>\n",
       "      <td>104717.28</td>\n",
       "    </tr>\n",
       "    <tr>\n",
       "      <th>3</th>\n",
       "      <td>Ababio, Godfred A.</td>\n",
       "      <td>M</td>\n",
       "      <td>57819.04</td>\n",
       "      <td>3423.07</td>\n",
       "      <td>COR</td>\n",
       "      <td>Correction and Rehabilitation</td>\n",
       "      <td>PRRS Facility and Security</td>\n",
       "      <td>Fulltime-Regular</td>\n",
       "      <td>Resident Supervisor II</td>\n",
       "      <td>None</td>\n",
       "      <td>05/05/2014</td>\n",
       "      <td>2014.0</td>\n",
       "      <td>52734.57</td>\n",
       "    </tr>\n",
       "    <tr>\n",
       "      <th>4</th>\n",
       "      <td>Ababu, Essayas</td>\n",
       "      <td>M</td>\n",
       "      <td>95815.17</td>\n",
       "      <td>NaN</td>\n",
       "      <td>HCA</td>\n",
       "      <td>Department of Housing and Community Affairs</td>\n",
       "      <td>Affordable Housing Programs</td>\n",
       "      <td>Fulltime-Regular</td>\n",
       "      <td>Planning Specialist III</td>\n",
       "      <td>None</td>\n",
       "      <td>03/05/2007</td>\n",
       "      <td>2007.0</td>\n",
       "      <td>93396.00</td>\n",
       "    </tr>\n",
       "  </tbody>\n",
       "</table>\n",
       "</div>"
      ],
      "text/plain": [
       "            full_name gender  2016_gross_pay_received  2016_overtime_pay  \\\n",
       "0      Aarhus, Pam J.      F                 71225.98             416.10   \n",
       "1     Aaron, David J.      M                103088.48            3326.19   \n",
       "2    Aaron, Marsha M.      F                107000.24            1353.32   \n",
       "3  Ababio, Godfred A.      M                 57819.04            3423.07   \n",
       "4      Ababu, Essayas      M                 95815.17                NaN   \n",
       "\n",
       "  department                              department_name  \\\n",
       "0        POL                         Department of Police   \n",
       "1        POL                         Department of Police   \n",
       "2        HHS      Department of Health and Human Services   \n",
       "3        COR                Correction and Rehabilitation   \n",
       "4        HCA  Department of Housing and Community Affairs   \n",
       "\n",
       "                                            division assignment_category  \\\n",
       "0  MSB Information Mgmt and Tech Division Records...    Fulltime-Regular   \n",
       "1         ISB Major Crimes Division Fugitive Section    Fulltime-Regular   \n",
       "2      Adult Protective and Case Management Services    Fulltime-Regular   \n",
       "3                         PRRS Facility and Security    Fulltime-Regular   \n",
       "4                        Affordable Housing Programs    Fulltime-Regular   \n",
       "\n",
       "       employee_position_title underfilled_job_title date_first_hired  \\\n",
       "0  Office Services Coordinator                  None       09/22/1986   \n",
       "1        Master Police Officer                  None       09/12/1988   \n",
       "2             Social Worker IV                  None       11/19/1989   \n",
       "3       Resident Supervisor II                  None       05/05/2014   \n",
       "4      Planning Specialist III                  None       03/05/2007   \n",
       "\n",
       "   year_first_hired  Current Annual Salary  \n",
       "0            1986.0               69222.18  \n",
       "1            1988.0               97392.47  \n",
       "2            1989.0              104717.28  \n",
       "3            2014.0               52734.57  \n",
       "4            2007.0               93396.00  "
      ]
     },
     "execution_count": 2,
     "metadata": {},
     "output_type": "execute_result"
    }
   ],
   "source": [
    "data = employee_salaries['data']\n",
    "data.head(n=5)"
   ]
  },
  {
   "cell_type": "markdown",
   "metadata": {},
   "source": [
    "This column has only two values."
   ]
  },
  {
   "cell_type": "code",
   "execution_count": 3,
   "metadata": {
    "colab": {
     "base_uri": "https://localhost:8080/"
    },
    "id": "XFrILe5v-DaU",
    "outputId": "92134530-54d6-4fb1-e7d7-1ae4abb839f6"
   },
   "outputs": [
    {
     "name": "stdout",
     "output_type": "stream",
     "text": [
      "Fulltime-Regular    8394\n",
      "Parttime-Regular     834\n",
      "Name: assignment_category, dtype: int64\n"
     ]
    }
   ],
   "source": [
    "print(data['assignment_category'].value_counts().sort_index())"
   ]
  },
  {
   "cell_type": "markdown",
   "metadata": {},
   "source": [
    "This one has *many*."
   ]
  },
  {
   "cell_type": "code",
   "execution_count": 14,
   "metadata": {},
   "outputs": [
    {
     "data": {
      "text/plain": [
       "385"
      ]
     },
     "execution_count": 14,
     "metadata": {},
     "output_type": "execute_result"
    }
   ],
   "source": [
    "len(data['employee_position_title'].value_counts())"
   ]
  },
  {
   "cell_type": "markdown",
   "metadata": {},
   "source": [
    "Let's convert this to a machine learning dataset. Note that we'll definately drop gender."
   ]
  },
  {
   "cell_type": "code",
   "execution_count": 40,
   "metadata": {
    "id": "3fa6bBURAXNO"
   },
   "outputs": [],
   "source": [
    "target_column = 'Current Annual Salary'\n",
    "ml_df = data[[target_column, 'gender', 'year_first_hired', 'assignment_category', 'employee_position_title']].dropna()\n",
    "y = ml_df[target_column].values.ravel()\n",
    "# y = (y - np.mean(y))/np.std(y)\n",
    "X = ml_df[['employee_position_title', 'gender', 'year_first_hired', 'assignment_category']]"
   ]
  },
  {
   "cell_type": "code",
   "execution_count": 6,
   "metadata": {
    "id": "vtzu1etpUdpD"
   },
   "outputs": [
    {
     "data": {
      "text/html": [
       "<div>\n",
       "<style scoped>\n",
       "    .dataframe tbody tr th:only-of-type {\n",
       "        vertical-align: middle;\n",
       "    }\n",
       "\n",
       "    .dataframe tbody tr th {\n",
       "        vertical-align: top;\n",
       "    }\n",
       "\n",
       "    .dataframe thead th {\n",
       "        text-align: right;\n",
       "    }\n",
       "</style>\n",
       "<table border=\"1\" class=\"dataframe\">\n",
       "  <thead>\n",
       "    <tr style=\"text-align: right;\">\n",
       "      <th></th>\n",
       "      <th>Current Annual Salary</th>\n",
       "      <th>year_first_hired</th>\n",
       "      <th>assignment_category</th>\n",
       "      <th>employee_position_title</th>\n",
       "    </tr>\n",
       "  </thead>\n",
       "  <tbody>\n",
       "    <tr>\n",
       "      <th>0</th>\n",
       "      <td>69222.18</td>\n",
       "      <td>1986.0</td>\n",
       "      <td>Fulltime-Regular</td>\n",
       "      <td>Office Services Coordinator</td>\n",
       "    </tr>\n",
       "    <tr>\n",
       "      <th>1</th>\n",
       "      <td>97392.47</td>\n",
       "      <td>1988.0</td>\n",
       "      <td>Fulltime-Regular</td>\n",
       "      <td>Master Police Officer</td>\n",
       "    </tr>\n",
       "    <tr>\n",
       "      <th>2</th>\n",
       "      <td>104717.28</td>\n",
       "      <td>1989.0</td>\n",
       "      <td>Fulltime-Regular</td>\n",
       "      <td>Social Worker IV</td>\n",
       "    </tr>\n",
       "    <tr>\n",
       "      <th>3</th>\n",
       "      <td>52734.57</td>\n",
       "      <td>2014.0</td>\n",
       "      <td>Fulltime-Regular</td>\n",
       "      <td>Resident Supervisor II</td>\n",
       "    </tr>\n",
       "    <tr>\n",
       "      <th>4</th>\n",
       "      <td>93396.00</td>\n",
       "      <td>2007.0</td>\n",
       "      <td>Fulltime-Regular</td>\n",
       "      <td>Planning Specialist III</td>\n",
       "    </tr>\n",
       "    <tr>\n",
       "      <th>5</th>\n",
       "      <td>70435.00</td>\n",
       "      <td>2007.0</td>\n",
       "      <td>Fulltime-Regular</td>\n",
       "      <td>Police Officer III</td>\n",
       "    </tr>\n",
       "    <tr>\n",
       "      <th>6</th>\n",
       "      <td>60300.00</td>\n",
       "      <td>2016.0</td>\n",
       "      <td>Fulltime-Regular</td>\n",
       "      <td>Accountant/Auditor II</td>\n",
       "    </tr>\n",
       "    <tr>\n",
       "      <th>7</th>\n",
       "      <td>64788.65</td>\n",
       "      <td>2014.0</td>\n",
       "      <td>Fulltime-Regular</td>\n",
       "      <td>Administrative Specialist II</td>\n",
       "    </tr>\n",
       "    <tr>\n",
       "      <th>8</th>\n",
       "      <td>45261.00</td>\n",
       "      <td>2016.0</td>\n",
       "      <td>Fulltime-Regular</td>\n",
       "      <td>Firefighter/Rescuer III</td>\n",
       "    </tr>\n",
       "    <tr>\n",
       "      <th>9</th>\n",
       "      <td>47670.09</td>\n",
       "      <td>2007.0</td>\n",
       "      <td>Fulltime-Regular</td>\n",
       "      <td>Police Aide</td>\n",
       "    </tr>\n",
       "    <tr>\n",
       "      <th>10</th>\n",
       "      <td>63492.87</td>\n",
       "      <td>2014.0</td>\n",
       "      <td>Fulltime-Regular</td>\n",
       "      <td>Electrician I</td>\n",
       "    </tr>\n",
       "    <tr>\n",
       "      <th>11</th>\n",
       "      <td>58671.02</td>\n",
       "      <td>2002.0</td>\n",
       "      <td>Fulltime-Regular</td>\n",
       "      <td>Bus Operator</td>\n",
       "    </tr>\n",
       "  </tbody>\n",
       "</table>\n",
       "</div>"
      ],
      "text/plain": [
       "    Current Annual Salary  year_first_hired assignment_category  \\\n",
       "0                69222.18            1986.0    Fulltime-Regular   \n",
       "1                97392.47            1988.0    Fulltime-Regular   \n",
       "2               104717.28            1989.0    Fulltime-Regular   \n",
       "3                52734.57            2014.0    Fulltime-Regular   \n",
       "4                93396.00            2007.0    Fulltime-Regular   \n",
       "5                70435.00            2007.0    Fulltime-Regular   \n",
       "6                60300.00            2016.0    Fulltime-Regular   \n",
       "7                64788.65            2014.0    Fulltime-Regular   \n",
       "8                45261.00            2016.0    Fulltime-Regular   \n",
       "9                47670.09            2007.0    Fulltime-Regular   \n",
       "10               63492.87            2014.0    Fulltime-Regular   \n",
       "11               58671.02            2002.0    Fulltime-Regular   \n",
       "\n",
       "         employee_position_title  \n",
       "0    Office Services Coordinator  \n",
       "1          Master Police Officer  \n",
       "2               Social Worker IV  \n",
       "3         Resident Supervisor II  \n",
       "4        Planning Specialist III  \n",
       "5             Police Officer III  \n",
       "6          Accountant/Auditor II  \n",
       "7   Administrative Specialist II  \n",
       "8        Firefighter/Rescuer III  \n",
       "9                    Police Aide  \n",
       "10                 Electrician I  \n",
       "11                  Bus Operator  "
      ]
     },
     "execution_count": 6,
     "metadata": {},
     "output_type": "execute_result"
    }
   ],
   "source": [
    "ml_df.head(12).drop(columns=['gender'])"
   ]
  },
  {
   "cell_type": "markdown",
   "metadata": {},
   "source": [
    "  "
   ]
  },
  {
   "cell_type": "markdown",
   "metadata": {},
   "source": [
    "Dropping gender is not enough to suggest fairness. Keep that in mind as we explore categorical featurizers."
   ]
  },
  {
   "cell_type": "code",
   "execution_count": 41,
   "metadata": {},
   "outputs": [
    {
     "data": {
      "text/plain": [
       "(9228, 200)"
      ]
     },
     "execution_count": 41,
     "metadata": {},
     "output_type": "execute_result"
    }
   ],
   "source": [
    "import dirty_cat \n",
    "\n",
    "mod = dirty_cat.SimilarityEncoder(categories='most_frequent', n_prototypes=200)\n",
    "mod.fit_transform(data[['employee_position_title']]).shape"
   ]
  },
  {
   "cell_type": "code",
   "execution_count": 43,
   "metadata": {},
   "outputs": [
    {
     "data": {
      "text/plain": [
       "(9211, 3702)"
      ]
     },
     "execution_count": 43,
     "metadata": {},
     "output_type": "execute_result"
    }
   ],
   "source": [
    "from sklearn.feature_extraction.text import CountVectorizer\n",
    "\n",
    "cv = CountVectorizer(analyzer='char', ngram_range=(2, 4)).fit(ml_df['employee_position_title'])\n",
    "cv.fit_transform(ml_df['employee_position_title']).shape"
   ]
  },
  {
   "cell_type": "markdown",
   "metadata": {},
   "source": [
    "Note the difference in shape of output here. \n",
    "\n",
    "Also note that the `SimilarityEncoder` can deal with dataframes as input. The `CountVectorizer` expects 1D data containing text. Unfortunately this means that we need to construct two pipelines."
   ]
  },
  {
   "cell_type": "code",
   "execution_count": 34,
   "metadata": {
    "colab": {
     "base_uri": "https://localhost:8080/"
    },
    "id": "j479hIbPAs7I",
    "outputId": "f6f95a94-ed18-4a0e-ffac-6ce839dc9313"
   },
   "outputs": [
    {
     "name": "stdout",
     "output_type": "stream",
     "text": [
      "sim_enc100\n",
      "sim_enc300\n",
      "sim_enc_all\n",
      "one-hot\n"
     ]
    }
   ],
   "source": [
    "from sklearn import set_config\n",
    "\n",
    "set_config(display=\"diagram\") \n",
    "\n",
    "from sklearn.pipeline import Pipeline, FeatureUnion\n",
    "from sklego.preprocessing import ColumnSelector\n",
    "from sklearn.preprocessing import StandardScaler, OneHotEncoder, FunctionTransformer\n",
    "from sklearn.model_selection import GridSearchCV\n",
    "from sklearn.feature_extraction.text import CountVectorizer\n",
    "from sklearn.linear_model import Ridge\n",
    "\n",
    "method = {\n",
    "    'sim_enc100': dirty_cat.SimilarityEncoder(categories='most_frequent', n_prototypes=100),\n",
    "    'sim_enc300': dirty_cat.SimilarityEncoder(categories='most_frequent', n_prototypes=300),\n",
    "    'sim_enc_all': dirty_cat.SimilarityEncoder(),\n",
    "    'one-hot': OneHotEncoder(handle_unknown='ignore')\n",
    "}\n",
    "\n",
    "results = []\n",
    "\n",
    "for k, encoder in method.items():\n",
    "  pipe = Pipeline([\n",
    "    ('split', FeatureUnion([\n",
    "      ('cat', Pipeline([\n",
    "        ('grab', ColumnSelector(['employee_position_title'])),\n",
    "        ('handle', encoder)\n",
    "      ])),\n",
    "      ('one-hot', Pipeline([\n",
    "        ('grab', ColumnSelector('assignment_category')),\n",
    "        ('handle', OneHotEncoder(handle_unknown='ignore'))\n",
    "      ])),\n",
    "      ('floats', Pipeline([\n",
    "        ('grab', ColumnSelector('year_first_hired')),\n",
    "        ('scale', StandardScaler())\n",
    "      ])),\n",
    "    ])),\n",
    "    ('mod', Ridge())\n",
    "  ])\n",
    "\n",
    "  grid = GridSearchCV(pipe, cv=10, param_grid={}, scoring=['r2', 'neg_mean_absolute_error'], refit='r2', n_jobs=-1)\n",
    "  print(k)\n",
    "  res_df = pd.DataFrame(grid.fit(X, y).cv_results_)\n",
    "  res_df['key'] = k\n",
    "  results.append(res_df)"
   ]
  },
  {
   "cell_type": "code",
   "execution_count": 36,
   "metadata": {
    "id": "P1v2hc5z6GoM"
   },
   "outputs": [
    {
     "name": "stdout",
     "output_type": "stream",
     "text": [
      "cv\n",
      "cv_ngram\n"
     ]
    }
   ],
   "source": [
    "from sklearn.feature_extraction.text import CountVectorizer, TfidfVectorizer\n",
    "\n",
    "method = {\n",
    "    'cv': CountVectorizer(),\n",
    "    'cv_ngram': CountVectorizer(analyzer='char', ngram_range=(2, 4)),\n",
    "}\n",
    "\n",
    "for k, encoder in method.items():\n",
    "  pipe = Pipeline([\n",
    "    ('split', FeatureUnion([\n",
    "      ('cat', Pipeline([\n",
    "        ('listify', FunctionTransformer(lambda d: [t for t in d['employee_position_title']])),\n",
    "        ('handle', encoder)\n",
    "      ])),\n",
    "      ('one-hot', Pipeline([\n",
    "        ('grab', ColumnSelector('assignment_category')),\n",
    "        ('handle', OneHotEncoder(handle_unknown='ignore'))\n",
    "      ])),\n",
    "\n",
    "      ('floats', Pipeline([\n",
    "        ('grab', ColumnSelector('year_first_hired')),\n",
    "        ('scale', StandardScaler())\n",
    "      ])),\n",
    "    ])),\n",
    "    ('mod', Ridge())\n",
    "  ])\n",
    "  grid = GridSearchCV(pipe, cv=10, param_grid={}, scoring=['r2', 'neg_mean_absolute_error'], refit='r2', n_jobs=-1)\n",
    "  print(k)\n",
    "  res_df = pd.DataFrame(grid.fit(X, y).cv_results_)\n",
    "  res_df['key'] = k\n",
    "  results.append(res_df)"
   ]
  },
  {
   "cell_type": "code",
   "execution_count": 44,
   "metadata": {},
   "outputs": [
    {
     "data": {
      "text/html": [
       "<style>div.sk-top-container {color: black;background-color: white;}div.sk-toggleable {background-color: white;}label.sk-toggleable__label {cursor: pointer;display: block;width: 100%;margin-bottom: 0;padding: 0.2em 0.3em;box-sizing: border-box;text-align: center;}div.sk-toggleable__content {max-height: 0;max-width: 0;overflow: hidden;text-align: left;background-color: #f0f8ff;}div.sk-toggleable__content pre {margin: 0.2em;color: black;border-radius: 0.25em;background-color: #f0f8ff;}input.sk-toggleable__control:checked~div.sk-toggleable__content {max-height: 200px;max-width: 100%;overflow: auto;}div.sk-estimator input.sk-toggleable__control:checked~label.sk-toggleable__label {background-color: #d4ebff;}div.sk-label input.sk-toggleable__control:checked~label.sk-toggleable__label {background-color: #d4ebff;}input.sk-hidden--visually {border: 0;clip: rect(1px 1px 1px 1px);clip: rect(1px, 1px, 1px, 1px);height: 1px;margin: -1px;overflow: hidden;padding: 0;position: absolute;width: 1px;}div.sk-estimator {font-family: monospace;background-color: #f0f8ff;margin: 0.25em 0.25em;border: 1px dotted black;border-radius: 0.25em;box-sizing: border-box;}div.sk-estimator:hover {background-color: #d4ebff;}div.sk-parallel-item::after {content: \"\";width: 100%;border-bottom: 1px solid gray;flex-grow: 1;}div.sk-label:hover label.sk-toggleable__label {background-color: #d4ebff;}div.sk-serial::before {content: \"\";position: absolute;border-left: 1px solid gray;box-sizing: border-box;top: 2em;bottom: 0;left: 50%;}div.sk-serial {display: flex;flex-direction: column;align-items: center;background-color: white;}div.sk-item {z-index: 1;}div.sk-parallel {display: flex;align-items: stretch;justify-content: center;background-color: white;}div.sk-parallel-item {display: flex;flex-direction: column;position: relative;background-color: white;}div.sk-parallel-item:first-child::after {align-self: flex-end;width: 50%;}div.sk-parallel-item:last-child::after {align-self: flex-start;width: 50%;}div.sk-parallel-item:only-child::after {width: 0;}div.sk-dashed-wrapped {border: 1px dashed gray;margin: 0.2em;box-sizing: border-box;padding-bottom: 0.1em;background-color: white;position: relative;}div.sk-label label {font-family: monospace;font-weight: bold;background-color: white;display: inline-block;line-height: 1.2em;}div.sk-label-container {position: relative;z-index: 2;text-align: center;}div.sk-container {display: inline-block;position: relative;}</style><div class=\"sk-top-container\"><div class=\"sk-container\"><div class=\"sk-item sk-dashed-wrapped\"><div class=\"sk-label-container\"><div class=\"sk-label sk-toggleable\"><input class=\"sk-toggleable__control sk-hidden--visually\" id=\"b602673e-3233-4c2d-a617-ae0127a08f80\" type=\"checkbox\" ><label class=\"sk-toggleable__label\" for=\"b602673e-3233-4c2d-a617-ae0127a08f80\">GridSearchCV</label><div class=\"sk-toggleable__content\"><pre>GridSearchCV(cv=10,\n",
       "             estimator=Pipeline(steps=[('split',\n",
       "                                        FeatureUnion(transformer_list=[('cat',\n",
       "                                                                        Pipeline(steps=[('listify',\n",
       "                                                                                         FunctionTransformer(func=<function <lambda> at 0x134279b00>)),\n",
       "                                                                                        ('handle',\n",
       "                                                                                         CountVectorizer(analyzer='char',\n",
       "                                                                                                         ngram_range=(2,\n",
       "                                                                                                                      4)))])),\n",
       "                                                                       ('one-hot',\n",
       "                                                                        Pipeline(steps=[('grab',\n",
       "                                                                                         ColumnSelector(columns='assignment_category')),\n",
       "                                                                                        ('handle',\n",
       "                                                                                         OneHotEncoder(handle_unknown='ignore'))])),\n",
       "                                                                       ('floats',\n",
       "                                                                        Pipeline(steps=[('grab',\n",
       "                                                                                         ColumnSelector(columns='year_first_hired')),\n",
       "                                                                                        ('scale',\n",
       "                                                                                         StandardScaler())]))])),\n",
       "                                       ('mod', Ridge())]),\n",
       "             n_jobs=-1, param_grid={}, refit='r2',\n",
       "             scoring=['r2', 'neg_mean_absolute_error'])</pre></div></div></div><div class=\"sk-parallel\"><div class=\"sk-parallel-item\"><div class=\"sk-item\"><div class=\"sk-serial\"><div class=\"sk-item\"><div class=\"sk-serial\"><div class=\"sk-item sk-dashed-wrapped\"><div class=\"sk-label-container\"><div class=\"sk-label sk-toggleable\"><input class=\"sk-toggleable__control sk-hidden--visually\" id=\"cb36d5d2-abc8-4d17-bb64-e5455f3e8eae\" type=\"checkbox\" ><label class=\"sk-toggleable__label\" for=\"cb36d5d2-abc8-4d17-bb64-e5455f3e8eae\">split: FeatureUnion</label><div class=\"sk-toggleable__content\"><pre>FeatureUnion(transformer_list=[('cat',\n",
       "                                Pipeline(steps=[('listify',\n",
       "                                                 FunctionTransformer(func=<function <lambda> at 0x134279b00>)),\n",
       "                                                ('handle',\n",
       "                                                 CountVectorizer(analyzer='char',\n",
       "                                                                 ngram_range=(2,\n",
       "                                                                              4)))])),\n",
       "                               ('one-hot',\n",
       "                                Pipeline(steps=[('grab',\n",
       "                                                 ColumnSelector(columns='assignment_category')),\n",
       "                                                ('handle',\n",
       "                                                 OneHotEncoder(handle_unknown='ignore'))])),\n",
       "                               ('floats',\n",
       "                                Pipeline(steps=[('grab',\n",
       "                                                 ColumnSelector(columns='year_first_hired')),\n",
       "                                                ('scale', StandardScaler())]))])</pre></div></div></div><div class=\"sk-parallel\"><div class=\"sk-parallel-item\"><div class=\"sk-item\"><div class=\"sk-label-container\"><div class=\"sk-label sk-toggleable\"><label>cat</label></div></div><div class=\"sk-serial\"><div class=\"sk-item\"><div class=\"sk-serial\"><div class=\"sk-item\"><div class=\"sk-estimator sk-toggleable\"><input class=\"sk-toggleable__control sk-hidden--visually\" id=\"583d48a3-b7d7-4c29-a1d6-59ae10e6ac33\" type=\"checkbox\" ><label class=\"sk-toggleable__label\" for=\"583d48a3-b7d7-4c29-a1d6-59ae10e6ac33\">FunctionTransformer</label><div class=\"sk-toggleable__content\"><pre>FunctionTransformer(func=<function <lambda> at 0x134279b00>)</pre></div></div></div><div class=\"sk-item\"><div class=\"sk-estimator sk-toggleable\"><input class=\"sk-toggleable__control sk-hidden--visually\" id=\"1a9cf328-6812-4abd-a541-a91c5cecaaa5\" type=\"checkbox\" ><label class=\"sk-toggleable__label\" for=\"1a9cf328-6812-4abd-a541-a91c5cecaaa5\">CountVectorizer</label><div class=\"sk-toggleable__content\"><pre>CountVectorizer(analyzer='char', ngram_range=(2, 4))</pre></div></div></div></div></div></div></div></div><div class=\"sk-parallel-item\"><div class=\"sk-item\"><div class=\"sk-label-container\"><div class=\"sk-label sk-toggleable\"><label>one-hot</label></div></div><div class=\"sk-serial\"><div class=\"sk-item\"><div class=\"sk-serial\"><div class=\"sk-item\"><div class=\"sk-estimator sk-toggleable\"><input class=\"sk-toggleable__control sk-hidden--visually\" id=\"c4872550-7b3d-4d10-8b59-01ab8f38503e\" type=\"checkbox\" ><label class=\"sk-toggleable__label\" for=\"c4872550-7b3d-4d10-8b59-01ab8f38503e\">ColumnSelector</label><div class=\"sk-toggleable__content\"><pre>ColumnSelector(columns='assignment_category')</pre></div></div></div><div class=\"sk-item\"><div class=\"sk-estimator sk-toggleable\"><input class=\"sk-toggleable__control sk-hidden--visually\" id=\"0552f123-58be-46d4-8735-00a95a7d1219\" type=\"checkbox\" ><label class=\"sk-toggleable__label\" for=\"0552f123-58be-46d4-8735-00a95a7d1219\">OneHotEncoder</label><div class=\"sk-toggleable__content\"><pre>OneHotEncoder(handle_unknown='ignore')</pre></div></div></div></div></div></div></div></div><div class=\"sk-parallel-item\"><div class=\"sk-item\"><div class=\"sk-label-container\"><div class=\"sk-label sk-toggleable\"><label>floats</label></div></div><div class=\"sk-serial\"><div class=\"sk-item\"><div class=\"sk-serial\"><div class=\"sk-item\"><div class=\"sk-estimator sk-toggleable\"><input class=\"sk-toggleable__control sk-hidden--visually\" id=\"8e756340-9c4c-43d6-9f65-05513ee872c3\" type=\"checkbox\" ><label class=\"sk-toggleable__label\" for=\"8e756340-9c4c-43d6-9f65-05513ee872c3\">ColumnSelector</label><div class=\"sk-toggleable__content\"><pre>ColumnSelector(columns='year_first_hired')</pre></div></div></div><div class=\"sk-item\"><div class=\"sk-estimator sk-toggleable\"><input class=\"sk-toggleable__control sk-hidden--visually\" id=\"eb758a0e-7949-428a-aff0-6d0f8c90f8ad\" type=\"checkbox\" ><label class=\"sk-toggleable__label\" for=\"eb758a0e-7949-428a-aff0-6d0f8c90f8ad\">StandardScaler</label><div class=\"sk-toggleable__content\"><pre>StandardScaler()</pre></div></div></div></div></div></div></div></div></div></div><div class=\"sk-item\"><div class=\"sk-estimator sk-toggleable\"><input class=\"sk-toggleable__control sk-hidden--visually\" id=\"03a33161-bf68-46f3-b4de-23ca075c5807\" type=\"checkbox\" ><label class=\"sk-toggleable__label\" for=\"03a33161-bf68-46f3-b4de-23ca075c5807\">Ridge</label><div class=\"sk-toggleable__content\"><pre>Ridge()</pre></div></div></div></div></div></div></div></div></div></div></div></div>"
      ],
      "text/plain": [
       "GridSearchCV(cv=10,\n",
       "             estimator=Pipeline(steps=[('split',\n",
       "                                        FeatureUnion(transformer_list=[('cat',\n",
       "                                                                        Pipeline(steps=[('listify',\n",
       "                                                                                         FunctionTransformer(func=<function <lambda> at 0x134279b00>)),\n",
       "                                                                                        ('handle',\n",
       "                                                                                         CountVectorizer(analyzer='char',\n",
       "                                                                                                         ngram_range=(2,\n",
       "                                                                                                                      4)))])),\n",
       "                                                                       ('one-hot',\n",
       "                                                                        Pipeline(steps=[('grab',\n",
       "                                                                                         ColumnSelector(columns='assignment_category')),\n",
       "                                                                                        ('handle',\n",
       "                                                                                         OneHotEncoder(handle_unknown='ignore'))])),\n",
       "                                                                       ('floats',\n",
       "                                                                        Pipeline(steps=[('grab',\n",
       "                                                                                         ColumnSelector(columns='year_first_hired')),\n",
       "                                                                                        ('scale',\n",
       "                                                                                         StandardScaler())]))])),\n",
       "                                       ('mod', Ridge())]),\n",
       "             n_jobs=-1, param_grid={}, refit='r2',\n",
       "             scoring=['r2', 'neg_mean_absolute_error'])"
      ]
     },
     "execution_count": 44,
     "metadata": {},
     "output_type": "execute_result"
    }
   ],
   "source": [
    "grid"
   ]
  },
  {
   "cell_type": "markdown",
   "metadata": {},
   "source": [
    "Here are the results."
   ]
  },
  {
   "cell_type": "code",
   "execution_count": 37,
   "metadata": {
    "colab": {
     "base_uri": "https://localhost:8080/",
     "height": 318
    },
    "id": "nlOpxdDiFbAX",
    "outputId": "c82c315f-d5af-4377-f27f-3eae13f7aac7"
   },
   "outputs": [
    {
     "data": {
      "text/html": [
       "<div>\n",
       "<style scoped>\n",
       "    .dataframe tbody tr th:only-of-type {\n",
       "        vertical-align: middle;\n",
       "    }\n",
       "\n",
       "    .dataframe tbody tr th {\n",
       "        vertical-align: top;\n",
       "    }\n",
       "\n",
       "    .dataframe thead th {\n",
       "        text-align: right;\n",
       "    }\n",
       "</style>\n",
       "<table border=\"1\" class=\"dataframe\">\n",
       "  <thead>\n",
       "    <tr style=\"text-align: right;\">\n",
       "      <th></th>\n",
       "      <th>index</th>\n",
       "      <th>mean_test_neg_mean_absolute_error</th>\n",
       "      <th>mean_test_r2</th>\n",
       "      <th>key</th>\n",
       "    </tr>\n",
       "  </thead>\n",
       "  <tbody>\n",
       "    <tr>\n",
       "      <th>0</th>\n",
       "      <td>0</td>\n",
       "      <td>-6282.144808</td>\n",
       "      <td>0.901977</td>\n",
       "      <td>cv_ngram</td>\n",
       "    </tr>\n",
       "    <tr>\n",
       "      <th>1</th>\n",
       "      <td>0</td>\n",
       "      <td>-6323.948614</td>\n",
       "      <td>0.901758</td>\n",
       "      <td>sim_enc_all</td>\n",
       "    </tr>\n",
       "    <tr>\n",
       "      <th>2</th>\n",
       "      <td>0</td>\n",
       "      <td>-6826.029665</td>\n",
       "      <td>0.885764</td>\n",
       "      <td>cv</td>\n",
       "    </tr>\n",
       "    <tr>\n",
       "      <th>3</th>\n",
       "      <td>0</td>\n",
       "      <td>-6580.573745</td>\n",
       "      <td>0.874806</td>\n",
       "      <td>sim_enc300</td>\n",
       "    </tr>\n",
       "    <tr>\n",
       "      <th>4</th>\n",
       "      <td>0</td>\n",
       "      <td>-6396.464374</td>\n",
       "      <td>0.861522</td>\n",
       "      <td>one-hot</td>\n",
       "    </tr>\n",
       "    <tr>\n",
       "      <th>5</th>\n",
       "      <td>0</td>\n",
       "      <td>-7790.967702</td>\n",
       "      <td>0.788693</td>\n",
       "      <td>sim_enc100</td>\n",
       "    </tr>\n",
       "  </tbody>\n",
       "</table>\n",
       "</div>"
      ],
      "text/plain": [
       "   index  mean_test_neg_mean_absolute_error  mean_test_r2          key\n",
       "0      0                       -6282.144808      0.901977     cv_ngram\n",
       "1      0                       -6323.948614      0.901758  sim_enc_all\n",
       "2      0                       -6826.029665      0.885764           cv\n",
       "3      0                       -6580.573745      0.874806   sim_enc300\n",
       "4      0                       -6396.464374      0.861522      one-hot\n",
       "5      0                       -7790.967702      0.788693   sim_enc100"
      ]
     },
     "execution_count": 37,
     "metadata": {},
     "output_type": "execute_result"
    }
   ],
   "source": [
    "import matplotlib.pylab as plt \n",
    "\n",
    "plt_df = pd.concat(results)[['mean_test_neg_mean_absolute_error', 'mean_test_r2', 'key']]\n",
    "plt_df.sort_values('mean_test_r2', ascending=False).reset_index()"
   ]
  }
 ],
 "metadata": {
  "colab": {
   "collapsed_sections": [],
   "name": "dirty-cat.ipynb",
   "provenance": []
  },
  "kernelspec": {
   "display_name": "Python 3",
   "language": "python",
   "name": "python3"
  },
  "language_info": {
   "codemirror_mode": {
    "name": "ipython",
    "version": 3
   },
   "file_extension": ".py",
   "mimetype": "text/x-python",
   "name": "python",
   "nbconvert_exporter": "python",
   "pygments_lexer": "ipython3",
   "version": "3.7.7"
  }
 },
 "nbformat": 4,
 "nbformat_minor": 4
}
